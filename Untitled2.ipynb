{
  "nbformat": 4,
  "nbformat_minor": 0,
  "metadata": {
    "colab": {
      "name": "Untitled2.ipynb",
      "provenance": []
    },
    "kernelspec": {
      "name": "python3",
      "display_name": "Python 3"
    },
    "language_info": {
      "name": "python"
    }
  },
  "cells": [
    {
      "cell_type": "markdown",
      "source": [
        "Pactical No:7\n",
        "Write a program to demonstrate working with dictioneries in python."
      ],
      "metadata": {
        "id": "EdpG1-yqnw6-"
      }
    },
    {
      "cell_type": "code",
      "execution_count": 1,
      "metadata": {
        "colab": {
          "base_uri": "https://localhost:8080/"
        },
        "id": "emzWnRrnmVks",
        "outputId": "7fefaaec-1909-46bd-b676-0d90521d2d17"
      },
      "outputs": [
        {
          "output_type": "stream",
          "name": "stdout",
          "text": [
            "\n",
            " Dictionary is : {'StdNo': '532', 'StuName': 'Aaryan', 'StuAge': 20, 'StuCity': 'Shirpur'}\n",
            "\n",
            " Student Name is : Aaryan\n",
            "\n",
            " Student City is : Shirpur\n",
            "\n",
            " All Keys in Dictionary \n",
            "StdNo\n",
            "StuName\n",
            "StuAge\n",
            "StuCity\n",
            "\n",
            " All Values in Dictionary \n",
            "532\n",
            "Aaryan\n",
            "20\n",
            "Shirpur\n",
            "\n",
            " Uadated Dictionary is : {'StdNo': '532', 'StuName': 'Aaryan', 'StuAge': 20, 'StuCity': 'Shirpur', 'Phno': 85457854}\n",
            "\n",
            " Uadated Dictionary is : {'StdNo': '532', 'StuName': 'Madhu', 'StuAge': 20, 'StuCity': 'Shirpur', 'Phno': 85457854}\n",
            "\n",
            " Uadated Dictionary is : {'StdNo': '532', 'StuName': 'Madhu', 'StuCity': 'Shirpur', 'Phno': 85457854}\n",
            "Length of Dictionary is : 4\n",
            "\n",
            " New Dictionary is : {'StdNo': '532', 'StuName': 'Madhu', 'StuCity': 'Shirpur', 'Phno': 85457854}\n",
            "\n",
            " Uadated Dictionary is : {}\n"
          ]
        }
      ],
      "source": [
        "dict1 = {'StdNo':'532','StuName': 'Aaryan', 'StuAge': 20, 'StuCity': 'Shirpur'}\n",
        "print(\"\\n Dictionary is :\",dict1)\n",
        "#Accessing specific values \n",
        "print(\"\\n Student Name is :\",dict1['StuName'])\n",
        "print(\"\\n Student City is :\",dict1['StuCity'])\n",
        "#Display all Keys\n",
        "print(\"\\n All Keys in Dictionary \")\n",
        "for x in dict1:\n",
        "    print(x)\n",
        "#Display all values\n",
        "print(\"\\n All Values in Dictionary \")\n",
        "for x in dict1:\n",
        "    print(dict1[x])\n",
        "#Adding items\n",
        "dict1[\"Phno\"]=85457854\n",
        "#Updated dictoinary\n",
        "print(\"\\n Uadated Dictionary is :\",dict1)\n",
        "#Change values\n",
        "dict1[\"StuName\"]=\"Madhu\"\n",
        "#Updated dictoinary\n",
        "print(\"\\n Uadated Dictionary is :\",dict1)\n",
        "#Removing Items\n",
        "dict1.pop(\"StuAge\");\n",
        "#Updated dictoinary\n",
        "print(\"\\n Uadated Dictionary is :\",dict1)\n",
        "#Length of Dictionary\n",
        "print(\"Length of Dictionary is :\",len(dict1))\n",
        "#Copy a Dictionary\n",
        "dict2=dict1.copy()\n",
        "#New dictoinary\n",
        "print(\"\\n New Dictionary is :\",dict2)\n",
        "#empties the dictionary\n",
        "dict1.clear()\n",
        "print(\"\\n Uadated Dictionary is :\",dict1)"
      ]
    }
  ]
}